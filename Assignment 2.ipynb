{
 "cells": [
  {
   "cell_type": "raw",
   "metadata": {},
   "source": [
    "1. Write a Python program to remove empty List from List."
   ]
  },
  {
   "cell_type": "code",
   "execution_count": 1,
   "metadata": {},
   "outputs": [
    {
     "name": "stdout",
     "output_type": "stream",
     "text": [
      "list is :  [10, 20, [], 30, [], [], 40]\n",
      "List after empty list removal :  [10, 20, 30, 40]\n"
     ]
    }
   ],
   "source": [
    "list = [10, 20, [], 30, [], [], 40] \n",
    "print(\"list is : \", list) \n",
    "item1 = [] \n",
    "for item in list:\n",
    "    if item!= []:\n",
    "        item1.append(item)\n",
    "print (\"List after empty list removal : \", item1) "
   ]
  },
  {
   "cell_type": "raw",
   "metadata": {},
   "source": [
    "2. Write a Python program to remove all duplicates words from a given sentence"
   ]
  },
  {
   "cell_type": "code",
   "execution_count": 2,
   "metadata": {},
   "outputs": [
    {
     "name": "stdout",
     "output_type": "stream",
     "text": [
      "Enter the string you want to check : Python is a programming language and Python is easy to learn.\n",
      "Python is a programming language and easy to learn.\n"
     ]
    }
   ],
   "source": [
    "str1 = input(\"Enter the string you want to check : \")\n",
    "str2 = str1.split() \n",
    "str3 = [] \n",
    "for i in str2: \n",
    "    if (str1.count(i)>1 and (i not in str3)or str1.count(i)==1): \n",
    "        str3.append(i) \n",
    "print(' '.join(str3))"
   ]
  },
  {
   "cell_type": "raw",
   "metadata": {},
   "source": [
    "3. Write a Python program to find all occurrences of a character in the given string"
   ]
  },
  {
   "cell_type": "code",
   "execution_count": 3,
   "metadata": {},
   "outputs": [
    {
     "name": "stdout",
     "output_type": "stream",
     "text": [
      "Enter the character : g\n",
      "Count is :  2\n"
     ]
    }
   ],
   "source": [
    "import re \n",
    " \n",
    "test_str = \"Python Programming\"\n",
    "\n",
    "count = len(re.findall(input(\"Enter the character : \"), test_str)) \n",
    "  \n",
    "print (\"Count is : \", count) "
   ]
  }
 ],
 "metadata": {
  "kernelspec": {
   "display_name": "Python 3",
   "language": "python",
   "name": "python3"
  },
  "language_info": {
   "codemirror_mode": {
    "name": "ipython",
    "version": 3
   },
   "file_extension": ".py",
   "mimetype": "text/x-python",
   "name": "python",
   "nbconvert_exporter": "python",
   "pygments_lexer": "ipython3",
   "version": "3.7.6"
  }
 },
 "nbformat": 4,
 "nbformat_minor": 4
}
