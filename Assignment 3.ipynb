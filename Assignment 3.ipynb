{
 "cells": [
  {
   "cell_type": "raw",
   "metadata": {},
   "source": [
    "1. Write a Python program to merge two files into a third file."
   ]
  },
  {
   "cell_type": "code",
   "execution_count": 1,
   "metadata": {},
   "outputs": [
    {
     "name": "stdout",
     "output_type": "stream",
     "text": [
      "Enter the name of the new file: new3\n",
      "Do you want to view it ? (yes / no): \n",
      "yes\n",
      "\n",
      "Hello!\n",
      "My name is Akash Varshney.\n",
      "I want to become a successful Python Developer.\n"
     ]
    }
   ],
   "source": [
    "with open('new 1.txt') as fp: \n",
    "    data = fp.read() \n",
    "\n",
    "with open('new 2.txt') as fp: \n",
    "    data2 = fp.read() \n",
    "\n",
    "newfile = input(\"Enter the name of the new file: \")\n",
    "\n",
    "data += data2 \n",
    "  \n",
    "with open (newfile, 'w') as fp: \n",
    "    fp.write(data)\n",
    "\n",
    "print(\"Do you want to view it ? (yes / no): \") \n",
    "\n",
    "check = input() \n",
    "if check == 'no': \n",
    "    exit() \n",
    "else: \n",
    "    print() \n",
    "    c = open(newfile, \"r\") \n",
    "    print(c.read()) \n",
    "    c.close()"
   ]
  },
  {
   "cell_type": "raw",
   "metadata": {},
   "source": [
    "2. Take two lists as input list1 = [1,2,3,4,5] and list2 = [\"a\", \"b\", \"c\", \"d\", \"e\"] From that make a\n",
    "dictionary ouput {1:\"a\", 2:\"b\", 3:\"c\", 4:\"d\", 5:\"e\"}"
   ]
  },
  {
   "cell_type": "code",
   "execution_count": 3,
   "metadata": {},
   "outputs": [
    {
     "name": "stdout",
     "output_type": "stream",
     "text": [
      "List of 1 :  [1, 2, 3, 4, 5]\n",
      "List of 2 :  ['a', 'b', 'c', 'd', 'e']\n",
      "Dictionary from the lists :\n",
      "  {1: 'a', 2: 'b', 3: 'c', 4: 'd', 5: 'e'}\n"
     ]
    }
   ],
   "source": [
    "list1 = [1,2,3,4,5]\n",
    "list2 = [\"a\", \"b\", \"c\", \"d\", \"e\"]\n",
    "\n",
    "print(\"List of 1 : \", list1)\n",
    "print(\"List of 2 : \", list2)\n",
    "\n",
    "dict = {}\n",
    "\n",
    "for key in list1:\n",
    "    for value in list2:\n",
    "        dict[key] = value\n",
    "        list2.remove(value)\n",
    "        break\n",
    "        \n",
    "print(\"Dictionary from the lists :\\n \",dict)"
   ]
  },
  {
   "cell_type": "code",
   "execution_count": null,
   "metadata": {},
   "outputs": [],
   "source": []
  }
 ],
 "metadata": {
  "kernelspec": {
   "display_name": "Python 3",
   "language": "python",
   "name": "python3"
  },
  "language_info": {
   "codemirror_mode": {
    "name": "ipython",
    "version": 3
   },
   "file_extension": ".py",
   "mimetype": "text/x-python",
   "name": "python",
   "nbconvert_exporter": "python",
   "pygments_lexer": "ipython3",
   "version": "3.7.6"
  }
 },
 "nbformat": 4,
 "nbformat_minor": 4
}
