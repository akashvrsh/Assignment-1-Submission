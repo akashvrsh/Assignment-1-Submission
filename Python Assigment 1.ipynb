{
 "cells": [
  {
   "cell_type": "raw",
   "metadata": {},
   "source": [
    "1. Write a Python program to print all Prime numbers in an Interval."
   ]
  },
  {
   "cell_type": "code",
   "execution_count": 1,
   "metadata": {},
   "outputs": [
    {
     "name": "stdout",
     "output_type": "stream",
     "text": [
      "Enter lower range :55\n",
      "Enter Upper range :60\n",
      "55\n",
      "57\n",
      "59\n"
     ]
    }
   ],
   "source": [
    "start = int(input(\"Enter lower range :\"))\n",
    "end = int(input(\"Enter Upper range :\"))\n",
    "\n",
    "for num in range(start, end):\n",
    "    for i in range(2, num):\n",
    "        if num % i == 0:\n",
    "            break\n",
    "        else:\n",
    "            print(num)\n",
    "            break"
   ]
  },
  {
   "cell_type": "raw",
   "metadata": {},
   "source": [
    "2. Write a Python Program for factorial of a number."
   ]
  },
  {
   "cell_type": "code",
   "execution_count": 2,
   "metadata": {},
   "outputs": [
    {
     "name": "stdout",
     "output_type": "stream",
     "text": [
      "Enter the number :7\n",
      "factorial is 5040\n"
     ]
    }
   ],
   "source": [
    "num = int(input(\"Enter the number :\"))\n",
    "fact = 1\n",
    "if num < 0:\n",
    "    print(\"Cannot find the factorial for negative numbers\")\n",
    "elif num == 0:\n",
    "    print(\"The factorial of 0 is 1\")\n",
    "else:\n",
    "    for i in range(1,num + 1):\n",
    "        fact = fact*i\n",
    "    print(\"factorial is\",fact)  "
   ]
  },
  {
   "cell_type": "raw",
   "metadata": {},
   "source": [
    "3. Find the sum of n numbers by using the while loop"
   ]
  },
  {
   "cell_type": "code",
   "execution_count": 3,
   "metadata": {},
   "outputs": [
    {
     "name": "stdout",
     "output_type": "stream",
     "text": [
      "Enter Number to calculate sum20\n",
      "sum using while loop  210\n"
     ]
    }
   ],
   "source": [
    "n = int(input(\"Enter Number to calculate sum\"))\n",
    "sum=0\n",
    "while (n >= 0):\n",
    "    sum += n\n",
    "    n-=1\n",
    "print (\"sum using while loop \", sum)"
   ]
  }
 ],
 "metadata": {
  "kernelspec": {
   "display_name": "Python 3",
   "language": "python",
   "name": "python3"
  },
  "language_info": {
   "codemirror_mode": {
    "name": "ipython",
    "version": 3
   },
   "file_extension": ".py",
   "mimetype": "text/x-python",
   "name": "python",
   "nbconvert_exporter": "python",
   "pygments_lexer": "ipython3",
   "version": "3.7.6"
  }
 },
 "nbformat": 4,
 "nbformat_minor": 4
}
